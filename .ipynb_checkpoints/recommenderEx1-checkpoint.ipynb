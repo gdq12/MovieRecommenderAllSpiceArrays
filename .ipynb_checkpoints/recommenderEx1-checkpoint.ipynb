{
 "cells": [
  {
   "cell_type": "code",
   "execution_count": 20,
   "metadata": {},
   "outputs": [],
   "source": [
    "import pandas as pd\n",
    "import numpy as np\n",
    "from sklearn.decomposition import NMF\n",
    "import pickle"
   ]
  },
  {
   "cell_type": "code",
   "execution_count": 21,
   "metadata": {},
   "outputs": [],
   "source": [
    "#import data\n",
    "ratings=pd.read_csv('ml-latest-small/ratings.csv')\n",
    "movies=pd.read_csv('ml-latest-small/movies.csv')\n",
    "tags=pd.read_csv('ml-latest-small/tags.csv')"
   ]
  },
  {
   "cell_type": "code",
   "execution_count": 22,
   "metadata": {},
   "outputs": [],
   "source": [
    "def sql_data(dfrate, dfmovie, dftag, filter_name):\n",
    "    '''\n",
    "    Takes the original data from postgres applies the specified filter and \n",
    "    produces the necessary input data, dictionary indeces, number variables \n",
    "    and array needed for other functions.\n",
    "    '''\n",
    "    dfrate1=dfrate.copy()\n",
    "    dfmovie1=dfmovie.copy()\n",
    "    dftags1=dftag.copy()\n",
    "    \n",
    "    #array for time_block dictionary index\n",
    "    dfrate1['timestamp'] = pd.to_datetime(dfrate1['timestamp'], unit='s')\n",
    "    dfrate1.set_index('timestamp', inplace=True)\n",
    "    dfrate1.loc[dfrate1.between_time('00:00', '04:00').index, 'time_block']='cant sleep'\n",
    "    dfrate1.loc[dfrate1.between_time('04:00', '07:00').index, 'time_block']='early commuter'\n",
    "    dfrate1.loc[dfrate1.between_time('07:00', '11:00').index, 'time_block']='talk show'\n",
    "    dfrate1.loc[dfrate1.between_time('11:00', '15:00').index, 'time_block']='kiddy nap'\n",
    "    dfrate1.loc[dfrate1.between_time('15:00', '18:00').index, 'time_block']='afterschool'\n",
    "    dfrate1.loc[dfrate1.between_time('18:00', '21:00').index, 'time_block']='tv dinner'\n",
    "    dfrate1.loc[dfrate1.between_time('21:00', '23:59:59').index, 'time_block']='late night'\n",
    "    dfrate1.reset_index(inplace=True)\n",
    "    time_tag=pd.DataFrame(dfrate1.groupby('movieId')['time_block'].value_counts().unstack().idxmax(axis=1), columns=['time_block'])\n",
    "    \n",
    "    #filtering the input data\n",
    "    #respective userid and movieId identifiers\n",
    "    user_rate=pd.DataFrame(dfrate1.groupby('userId')['rating'].count())\n",
    "    title_rate_count=pd.DataFrame(dfrate1.groupby('movieId')['rating'].count())\n",
    "    title_rate_mean=pd.DataFrame(dfrate1.groupby('movieId')['rating'].mean())\n",
    "    #filters\n",
    "    bottom75_user=user_rate[user_rate['rating']<600].index\n",
    "    top25_movies_voted=title_rate_count[title_rate_count['rating']>9].index\n",
    "    #2\n",
    "    if filter_name == 'bottom75_users_neutralize':\n",
    "        dfrate1.set_index('userId', inplace=True)\n",
    "        dfrate1.loc[bottom75_user,'rating']=3 \n",
    "        dfrate1.reset_index(inplace=True)\n",
    "    #3\n",
    "    if filter_name == 'top25_voted_neutralize':    \n",
    "        dfrate1.set_index('movieId', inplace=True)\n",
    "        dfrate1.loc[top25_movies_voted, 'rating']=3\n",
    "        dfrate1.reset_index(inplace=True)\n",
    "    #5\n",
    "    if filter_name == 'combo':\n",
    "        dfrate1.set_index('userId', inplace=True)\n",
    "        dfrate1.loc[bottom75_user,'rating']=3 \n",
    "        dfrate1.reset_index(inplace=True)\n",
    "        dfrate1.set_index('movieId', inplace=True)\n",
    "        dfrate1.loc[top25_movies_voted, 'rating']=3\n",
    "        dfrate1.reset_index(inplace=True)\n",
    "        \n",
    "    #create input matrix    \n",
    "    Rtrue=dfrate1.pivot(index='userId', columns='movieId', values='rating').fillna(2.5)\n",
    "    num_movies=Rtrue.shape[1]\n",
    "    movieId=Rtrue.columns\n",
    "    \n",
    "    #creating index dictionaries\n",
    "    movie_title_index=dict(zip(dfmovie1.movieId, dfmovie1.title))\n",
    "    movie_genre_index=dict(zip(dfmovie1.movieId, dfmovie1.genres))\n",
    "    movie_tag_index=dict(zip(dftags1.movieId, dftags1.tag ))\n",
    "    movie_time_index=dict(zip(time_tag.index, time_tag.time_block))\n",
    "    \n",
    "    return movie_time_index, movie_title_index, movie_genre_index, movie_tag_index, num_movies, movieId "
   ]
  },
  {
   "cell_type": "code",
   "execution_count": 23,
   "metadata": {},
   "outputs": [],
   "source": [
    "def user_input(user_flask, num_movies, movieId, movie_title_index):\n",
    "    '''\n",
    "    Take the the user input dictionary from flask and converts it into a \n",
    "    proper array for recommender function.\n",
    "    '''\n",
    "    #create default vector\n",
    "    new_user_vector = pd.DataFrame([2.5]*num_movies, index=movieId).reset_index()\n",
    "    new_user_vector=new_user_vector.replace({'movieId':movie_title_index}).set_index('movieId').T\n",
    "    #insert given user ratings to key movies \n",
    "    for key, value in user_flask.items():\n",
    "        new_user_vector.loc[:, key] = float(value)\n",
    "    return new_user_vector    "
   ]
  },
  {
   "cell_type": "code",
   "execution_count": 24,
   "metadata": {},
   "outputs": [],
   "source": [
    "def recommender_build(model, new_user_vector, user_flask,movie_time_index, movie_title_index, movie_genre_index, movie_tag_index, movieId):\n",
    "    '''\n",
    "    Builds a recommendation table based on model and user input array previously built.  \n",
    "    '''\n",
    "    #calculate recommendations based on model components\n",
    "    user_profile=model.transform(new_user_vector)\n",
    "    results=np.dot(user_profile, model.components_)\n",
    "    #customizing recommendation table with dictionary indices\n",
    "    results2=pd.DataFrame(results[0]).set_index(movieId).reset_index()\n",
    "    results2['genre']=results2['movieId'].map(movie_genre_index)\n",
    "    results2['tag']=results2['movieId'].map(movie_tag_index)\n",
    "    results2['time_block']=results2['movieId'].map(movie_time_index)\n",
    "    results2.columns=['movieId', 'weight', 'genre', 'tag', 'time_block']\n",
    "    recommendations=results2.replace({'movieId':movie_title_index})\n",
    "    #remove already input movies\n",
    "    for i in user_flask.keys():\n",
    "            recommendations.drop(recommendations.index[recommendations['movieId'] == i], inplace = True)\n",
    "    return recommendations"
   ]
  },
  {
   "cell_type": "code",
   "execution_count": 25,
   "metadata": {},
   "outputs": [],
   "source": [
    "def custom_recommendation(recommendations, search_filter, search_tag, num=5):\n",
    "    '''\n",
    "    Customizes recommendation based on nothing, time_block or genre\n",
    "    '''\n",
    "    if search_filter == 'none':\n",
    "        recs=np.array(recommendations.sort_values('weight', ascending=True)['movieId'][:num])\n",
    "    if search_filter == 'time_block':\n",
    "        recs=np.array(recommendations[recommendations['time_block']==search_tag].sort_values('weight', ascending=True)['movieId'][:num])\n",
    "    if search_filter == 'genre':\n",
    "        recs=np.array(recommendations[recommendations['genre']==search_tag].sort_values('weight', ascending=True)['movieId'][:num])\n",
    "    return recs"
   ]
  },
  {
   "cell_type": "code",
   "execution_count": 26,
   "metadata": {},
   "outputs": [],
   "source": [
    "movie_time_index, movie_title_index, movie_genre_index, movie_tag_index, num_movies, movieId=sql_data(ratings, movies, tags, 'combo')"
   ]
  },
  {
   "cell_type": "code",
   "execution_count": 27,
   "metadata": {},
   "outputs": [],
   "source": [
    "model = pickle.load(open('model5', 'rb'))"
   ]
  },
  {
   "cell_type": "code",
   "execution_count": 28,
   "metadata": {},
   "outputs": [],
   "source": [
    "#Example user input\n",
    "user_flask={'Grumpier Old Men (1995)': '5', \n",
    "            'Jumanji (1995)': '3', \n",
    "            'Waiting to Exhale (1995)': '4'}"
   ]
  },
  {
   "cell_type": "code",
   "execution_count": 29,
   "metadata": {},
   "outputs": [],
   "source": [
    "new_user_vector=user_input(user_flask, num_movies, movieId, movie_title_index)"
   ]
  },
  {
   "cell_type": "code",
   "execution_count": 30,
   "metadata": {},
   "outputs": [],
   "source": [
    "recommendations=recommender_build(model, new_user_vector, user_flask, movie_time_index, movie_title_index, movie_genre_index, movie_tag_index, movieId)"
   ]
  },
  {
   "cell_type": "code",
   "execution_count": 31,
   "metadata": {},
   "outputs": [
    {
     "data": {
      "text/plain": [
       "array([\"Eight Crazy Nights (Adam Sandler's Eight Crazy Nights) (2002)\",\n",
       "       'Josie and the Pussycats (2001)', 'Home Alone 3 (1997)',\n",
       "       'Sex and the City 2 (2010)',\n",
       "       'American Pie Presents: Band Camp (American Pie 4: Band Camp) (2005)',\n",
       "       'Forces of Nature (1999)', 'Without a Paddle (2004)',\n",
       "       'Psycho (1998)',\n",
       "       'American Pie Presents The Naked Mile (American Pie 5: The Naked Mile) (2006)',\n",
       "       'Red Sonja (1985)'], dtype=object)"
      ]
     },
     "execution_count": 31,
     "metadata": {},
     "output_type": "execute_result"
    }
   ],
   "source": [
    "#example input\n",
    "custom_recommendation(recommendations, 'time_block', 'cant sleep', 10)"
   ]
  },
  {
   "cell_type": "code",
   "execution_count": null,
   "metadata": {},
   "outputs": [],
   "source": []
  }
 ],
 "metadata": {
  "kernelspec": {
   "display_name": "MovieRecommender20",
   "language": "python",
   "name": "movierecommender20"
  },
  "language_info": {
   "codemirror_mode": {
    "name": "ipython",
    "version": 3
   },
   "file_extension": ".py",
   "mimetype": "text/x-python",
   "name": "python",
   "nbconvert_exporter": "python",
   "pygments_lexer": "ipython3",
   "version": "3.6.10"
  }
 },
 "nbformat": 4,
 "nbformat_minor": 4
}
