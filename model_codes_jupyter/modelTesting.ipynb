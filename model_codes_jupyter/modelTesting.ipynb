{
 "cells": [
  {
   "cell_type": "code",
   "execution_count": 13,
   "metadata": {},
   "outputs": [],
   "source": [
    "import pandas as pd\n",
    "from sklearn.metrics.pairwise import cosine_similarity\n",
    "import numpy as np\n",
    "import pickle\n",
    "import json"
   ]
  },
  {
   "cell_type": "markdown",
   "metadata": {},
   "source": [
    "### Building input data matrix for modeling "
   ]
  },
  {
   "cell_type": "code",
   "execution_count": 14,
   "metadata": {},
   "outputs": [],
   "source": [
    "#importing necessary files\n",
    "ratings=pd.read_csv('ml-latest-small/ratings.csv')\n",
    "movies=pd.read_csv('ml-latest-small/movies.csv')\n",
    "tags=pd.read_csv('ml-latest-small/tags.csv')"
   ]
  },
  {
   "cell_type": "code",
   "execution_count": 15,
   "metadata": {},
   "outputs": [],
   "source": [
    "with open('vm/movie_title_index.json', 'r') as fp:\n",
    "        movie_title_index = json.load(fp)\n",
    "movie_title_index = {int(k):str(v) for k,v in movie_title_index.items()}        "
   ]
  },
  {
   "cell_type": "code",
   "execution_count": 16,
   "metadata": {},
   "outputs": [],
   "source": [
    "#creating an input table \n",
    "Rtrue=ratings.pivot(index='userId', columns='movieId', values='rating').fillna(2.5)\n",
    "Rtrue=Rtrue.T.reset_index().replace({str('movieId'):movie_title_index}).set_index('movieId').T"
   ]
  },
  {
   "cell_type": "code",
   "execution_count": 17,
   "metadata": {},
   "outputs": [],
   "source": [
    "#creating and testing import for webserver\n",
    "Rtrue.to_csv('input_data.csv')"
   ]
  },
  {
   "cell_type": "code",
   "execution_count": 18,
   "metadata": {},
   "outputs": [],
   "source": [
    "Rtrue=pd.read_csv('input_data.csv', index_col=0)"
   ]
  },
  {
   "cell_type": "markdown",
   "metadata": {},
   "source": [
    "### creating sample user input"
   ]
  },
  {
   "cell_type": "code",
   "execution_count": 19,
   "metadata": {},
   "outputs": [],
   "source": [
    "#create user_flask\n",
    "user_flask = {'Grumpier Old Men (1995)': '5', 'Jumanji (1995)': '5', 'Waiting to Exhale (1995)': '5'}"
   ]
  },
  {
   "cell_type": "code",
   "execution_count": 20,
   "metadata": {},
   "outputs": [],
   "source": [
    "new_user_Id=len(Rtrue)+1"
   ]
  },
  {
   "cell_type": "code",
   "execution_count": 21,
   "metadata": {},
   "outputs": [],
   "source": [
    "#customize user_flask to input data\n",
    "new_user_vector = pd.DataFrame([2.5]*Rtrue.shape[1], index=Rtrue.columns).T\n",
    "for key, value in user_flask.items():\n",
    "    new_user_vector.loc[:, key] = float(value)\n",
    "new_user_vector.rename(index={0:new_user_Id},inplace=True)    "
   ]
  },
  {
   "cell_type": "markdown",
   "metadata": {},
   "source": [
    "### recommender based on cosim model "
   ]
  },
  {
   "cell_type": "code",
   "execution_count": 22,
   "metadata": {},
   "outputs": [],
   "source": [
    "#create new input matrix with new user input \n",
    "R_new_user=Rtrue.append(new_user_vector)"
   ]
  },
  {
   "cell_type": "code",
   "execution_count": 23,
   "metadata": {},
   "outputs": [],
   "source": [
    "#calculate recommendations \n",
    "simi_new_user=pd.DataFrame(cosine_similarity(R_new_user), index=R_new_user.index, columns=R_new_user.index)\n",
    "simi_new_user2=simi_new_user[new_user_Id][~(simi_new_user.index==new_user_Id)]\n",
    "results2 = pd.DataFrame(np.dot(simi_new_user2, Rtrue)/simi_new_user2.sum(), index=Rtrue.columns).reset_index()"
   ]
  },
  {
   "cell_type": "code",
   "execution_count": 24,
   "metadata": {},
   "outputs": [],
   "source": [
    "with open('vm/movie_tags_index.json', 'r') as fp:\n",
    "    movie_tags_index = json.load(fp)\n",
    "with open('vm/movie_genres_index.json', 'r') as fp:\n",
    "    movie_genres_index = json.load(fp)\n",
    "with open('vm/movie_time_index.json', 'r') as fp:\n",
    "    movie_time_index = json.load(fp)"
   ]
  },
  {
   "cell_type": "code",
   "execution_count": 26,
   "metadata": {},
   "outputs": [],
   "source": [
    "#customize recommendations table \n",
    "results2.columns=['movieId', 'weight']\n",
    "results2['genre']=results2['movieId'].map(movie_genres_index)\n",
    "results2['tag']=results2['movieId'].map(movie_tags_index)\n",
    "results2['time_block']=results2['movieId'].map(movie_time_index)\n",
    "recommendations=results2"
   ]
  },
  {
   "cell_type": "code",
   "execution_count": 27,
   "metadata": {},
   "outputs": [],
   "source": [
    "for i in user_flask.keys():\n",
    "        recommendations.drop(recommendations.index[recommendations.movieId == i], inplace = True)"
   ]
  },
  {
   "cell_type": "code",
   "execution_count": 30,
   "metadata": {},
   "outputs": [
    {
     "data": {
      "text/html": [
       "<div>\n",
       "<style scoped>\n",
       "    .dataframe tbody tr th:only-of-type {\n",
       "        vertical-align: middle;\n",
       "    }\n",
       "\n",
       "    .dataframe tbody tr th {\n",
       "        vertical-align: top;\n",
       "    }\n",
       "\n",
       "    .dataframe thead th {\n",
       "        text-align: right;\n",
       "    }\n",
       "</style>\n",
       "<table border=\"1\" class=\"dataframe\">\n",
       "  <thead>\n",
       "    <tr style=\"text-align: right;\">\n",
       "      <th></th>\n",
       "      <th>movieId</th>\n",
       "      <th>weight</th>\n",
       "      <th>genre</th>\n",
       "      <th>tag</th>\n",
       "      <th>time_block</th>\n",
       "    </tr>\n",
       "  </thead>\n",
       "  <tbody>\n",
       "    <tr>\n",
       "      <th>277</th>\n",
       "      <td>Shawshank Redemption, The (1994)</td>\n",
       "      <td>3.501692</td>\n",
       "      <td>Crime|Drama</td>\n",
       "      <td>Morgan Freeman</td>\n",
       "      <td>talk show</td>\n",
       "    </tr>\n",
       "    <tr>\n",
       "      <th>314</th>\n",
       "      <td>Forrest Gump (1994)</td>\n",
       "      <td>3.396671</td>\n",
       "      <td>Comedy|Drama|Romance|War</td>\n",
       "      <td>touching</td>\n",
       "      <td>tv dinner</td>\n",
       "    </tr>\n",
       "    <tr>\n",
       "      <th>257</th>\n",
       "      <td>Pulp Fiction (1994)</td>\n",
       "      <td>3.352905</td>\n",
       "      <td>Comedy|Crime|Drama|Thriller</td>\n",
       "      <td>witty</td>\n",
       "      <td>talk show</td>\n",
       "    </tr>\n",
       "    <tr>\n",
       "      <th>1938</th>\n",
       "      <td>Matrix, The (1999)</td>\n",
       "      <td>3.270053</td>\n",
       "      <td>Action|Sci-Fi|Thriller</td>\n",
       "      <td>post apocalyptic</td>\n",
       "      <td>talk show</td>\n",
       "    </tr>\n",
       "    <tr>\n",
       "      <th>510</th>\n",
       "      <td>Silence of the Lambs, The (1991)</td>\n",
       "      <td>3.258805</td>\n",
       "      <td>Crime|Horror|Thriller</td>\n",
       "      <td>suspense</td>\n",
       "      <td>talk show</td>\n",
       "    </tr>\n",
       "  </tbody>\n",
       "</table>\n",
       "</div>"
      ],
      "text/plain": [
       "                               movieId    weight                        genre  \\\n",
       "277   Shawshank Redemption, The (1994)  3.501692                  Crime|Drama   \n",
       "314                Forrest Gump (1994)  3.396671     Comedy|Drama|Romance|War   \n",
       "257                Pulp Fiction (1994)  3.352905  Comedy|Crime|Drama|Thriller   \n",
       "1938                Matrix, The (1999)  3.270053       Action|Sci-Fi|Thriller   \n",
       "510   Silence of the Lambs, The (1991)  3.258805        Crime|Horror|Thriller   \n",
       "\n",
       "                   tag time_block  \n",
       "277     Morgan Freeman  talk show  \n",
       "314           touching  tv dinner  \n",
       "257              witty  talk show  \n",
       "1938  post apocalyptic  talk show  \n",
       "510           suspense  talk show  "
      ]
     },
     "execution_count": 30,
     "metadata": {},
     "output_type": "execute_result"
    }
   ],
   "source": [
    "recommendations.sort_values('weight', ascending=False).head()"
   ]
  },
  {
   "cell_type": "markdown",
   "metadata": {},
   "source": [
    "### recommender based on NMF models"
   ]
  },
  {
   "cell_type": "code",
   "execution_count": 39,
   "metadata": {},
   "outputs": [],
   "source": [
    "#loading previously build models\n",
    "combo=pickle.load(open('flask_app2/combo', 'rb'))\n",
    "top25_movies=pickle.load(open('flask_app2/top25_movies', 'rb'))\n",
    "bottom75_user_neutral=pickle.load(open('flask_app2/bottom75_user_neutral', 'rb'))"
   ]
  },
  {
   "cell_type": "code",
   "execution_count": 40,
   "metadata": {},
   "outputs": [],
   "source": [
    "#build recommendation matrix based on models \n",
    "user_profile=combo.transform(new_user_vector)\n",
    "results=np.dot(user_profile, combo.components_)\n",
    "results2=pd.DataFrame(results[0]).set_index(Rtrue.columns).reset_index()\n",
    "results2.columns=['movieId', 'weight']"
   ]
  },
  {
   "cell_type": "code",
   "execution_count": 42,
   "metadata": {},
   "outputs": [],
   "source": [
    "#customize recommendation matrix\n",
    "results2['genre']=results2['movieId'].map(movie_genres_index)\n",
    "results2['tag']=results2['movieId'].map(movie_tags_index)\n",
    "results2['time_block']=results2['movieId'].map(movie_time_index)\n",
    "recommendations=results2"
   ]
  },
  {
   "cell_type": "code",
   "execution_count": 45,
   "metadata": {},
   "outputs": [],
   "source": [
    "#remove already new_user selected movies\n",
    "for i in user_flask.keys():\n",
    "        recommendations.drop(recommendations.index[recommendations.movieId== i], inplace = True)"
   ]
  },
  {
   "cell_type": "code",
   "execution_count": 47,
   "metadata": {},
   "outputs": [
    {
     "data": {
      "text/html": [
       "<div>\n",
       "<style scoped>\n",
       "    .dataframe tbody tr th:only-of-type {\n",
       "        vertical-align: middle;\n",
       "    }\n",
       "\n",
       "    .dataframe tbody tr th {\n",
       "        vertical-align: top;\n",
       "    }\n",
       "\n",
       "    .dataframe thead th {\n",
       "        text-align: right;\n",
       "    }\n",
       "</style>\n",
       "<table border=\"1\" class=\"dataframe\">\n",
       "  <thead>\n",
       "    <tr style=\"text-align: right;\">\n",
       "      <th></th>\n",
       "      <th>movieId</th>\n",
       "      <th>weight</th>\n",
       "      <th>genre</th>\n",
       "      <th>tag</th>\n",
       "      <th>time_block</th>\n",
       "    </tr>\n",
       "  </thead>\n",
       "  <tbody>\n",
       "    <tr>\n",
       "      <th>3154</th>\n",
       "      <td>Josie and the Pussycats (2001)</td>\n",
       "      <td>2.495896</td>\n",
       "      <td>Comedy</td>\n",
       "      <td>NaN</td>\n",
       "      <td>tv dinner</td>\n",
       "    </tr>\n",
       "    <tr>\n",
       "      <th>4096</th>\n",
       "      <td>Eight Crazy Nights (Adam Sandler's Eight Crazy...</td>\n",
       "      <td>2.496069</td>\n",
       "      <td>Animation|Comedy|Musical</td>\n",
       "      <td>NaN</td>\n",
       "      <td>talk show</td>\n",
       "    </tr>\n",
       "    <tr>\n",
       "      <th>3799</th>\n",
       "      <td>Jason X (2002)</td>\n",
       "      <td>2.496353</td>\n",
       "      <td>Horror|Sci-Fi|Thriller</td>\n",
       "      <td>NaN</td>\n",
       "      <td>late night</td>\n",
       "    </tr>\n",
       "    <tr>\n",
       "      <th>7329</th>\n",
       "      <td>Sex and the City 2 (2010)</td>\n",
       "      <td>2.496357</td>\n",
       "      <td>Comedy|Drama|Romance</td>\n",
       "      <td>NaN</td>\n",
       "      <td>late night</td>\n",
       "    </tr>\n",
       "    <tr>\n",
       "      <th>4793</th>\n",
       "      <td>Calendar Girls (2003)</td>\n",
       "      <td>2.496391</td>\n",
       "      <td>Comedy</td>\n",
       "      <td>NaN</td>\n",
       "      <td>tv dinner</td>\n",
       "    </tr>\n",
       "  </tbody>\n",
       "</table>\n",
       "</div>"
      ],
      "text/plain": [
       "                                                movieId    weight  \\\n",
       "3154                     Josie and the Pussycats (2001)  2.495896   \n",
       "4096  Eight Crazy Nights (Adam Sandler's Eight Crazy...  2.496069   \n",
       "3799                                     Jason X (2002)  2.496353   \n",
       "7329                          Sex and the City 2 (2010)  2.496357   \n",
       "4793                              Calendar Girls (2003)  2.496391   \n",
       "\n",
       "                         genre  tag  time_block  \n",
       "3154                    Comedy  NaN   tv dinner  \n",
       "4096  Animation|Comedy|Musical  NaN   talk show  \n",
       "3799    Horror|Sci-Fi|Thriller  NaN  late night  \n",
       "7329      Comedy|Drama|Romance  NaN  late night  \n",
       "4793                    Comedy  NaN   tv dinner  "
      ]
     },
     "execution_count": 47,
     "metadata": {},
     "output_type": "execute_result"
    }
   ],
   "source": [
    "recommendations.sort_values('weight', ascending=True).head()"
   ]
  },
  {
   "cell_type": "code",
   "execution_count": null,
   "metadata": {},
   "outputs": [],
   "source": []
  }
 ],
 "metadata": {
  "kernelspec": {
   "display_name": "MovieRecommender20",
   "language": "python",
   "name": "movierecommender20"
  },
  "language_info": {
   "codemirror_mode": {
    "name": "ipython",
    "version": 3
   },
   "file_extension": ".py",
   "mimetype": "text/x-python",
   "name": "python",
   "nbconvert_exporter": "python",
   "pygments_lexer": "ipython3",
   "version": "3.6.10"
  }
 },
 "nbformat": 4,
 "nbformat_minor": 4
}
