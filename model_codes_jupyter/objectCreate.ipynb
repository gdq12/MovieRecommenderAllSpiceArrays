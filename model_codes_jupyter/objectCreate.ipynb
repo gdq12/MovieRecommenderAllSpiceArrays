{
 "cells": [
  {
   "cell_type": "code",
   "execution_count": 1,
   "metadata": {},
   "outputs": [],
   "source": [
    "#import libraries\n",
    "import pandas as pd\n",
    "import numpy as np\n",
    "import random\n",
    "from sklearn.decomposition import NMF\n",
    "import pickle\n",
    "import json"
   ]
  },
  {
   "cell_type": "code",
   "execution_count": 2,
   "metadata": {},
   "outputs": [],
   "source": [
    "#import data\n",
    "ratings=pd.read_csv('ml-latest-small/ratings.csv')\n",
    "movies=pd.read_csv('ml-latest-small/movies.csv')\n",
    "tags=pd.read_csv('ml-latest-small/tags.csv')"
   ]
  },
  {
   "cell_type": "code",
   "execution_count": 3,
   "metadata": {},
   "outputs": [],
   "source": [
    "def input_cleanup(df, filter_name):\n",
    "    '''\n",
    "    Reassignes ratings to a 3 (to neuralize it) based on userId or movieId filter.\n",
    "    1. top25_users_neutralize: removes effect of the top 25% that gave their input\n",
    "    2. bottom75_users_neutralize: removes effect of the bottom 75% that gave their input\n",
    "    3. top25_voted_neutralize: removes effect of top25% voted on films **note: not their \n",
    "                                        rating but ones that recieved the most input**\n",
    "    4. rate4_5_neutralize: removes effect of films that were rated a 4 and 5 on average  \n",
    "    5. combo: combination of 2 and 3\n",
    "    '''\n",
    "    df1=df.copy()\n",
    "    \n",
    "    #respective userid and movieId identifiers\n",
    "    user_rate=pd.DataFrame(df1.groupby('userId')['rating'].count())\n",
    "    title_rate_count=pd.DataFrame(df1.groupby('movieId')['rating'].count())\n",
    "    title_rate_mean=pd.DataFrame(df1.groupby('movieId')['rating'].mean())\n",
    "    \n",
    "    #filters\n",
    "    top25_user=user_rate[user_rate['rating']>600].index\n",
    "    bottom75_user=user_rate[user_rate['rating']<600].index\n",
    "    top25_movies_voted=title_rate_count[title_rate_count['rating']>9].index\n",
    "    rate4_movies=title_rate_mean[title_rate_mean['rating']==4].index \n",
    "    rate5_movies=title_rate_mean[title_rate_mean['rating']==5].index\n",
    "    \n",
    "    #1\n",
    "    if filter_name == 'top25_users_neutralize':\n",
    "        df1.set_index('userId', inplace=True)\n",
    "        df1.loc[top25_user,'rating']=3 \n",
    "        df1.reset_index(inplace=True)\n",
    "    #2\n",
    "    if filter_name == 'bottom75_users_neutralize':\n",
    "        df1.set_index('userId', inplace=True)\n",
    "        df1.loc[bottom75_user,'rating']=3 \n",
    "        df1.reset_index(inplace=True)\n",
    "    #3\n",
    "    if filter_name == 'top25_voted_neutralize':    \n",
    "        df1.set_index('movieId', inplace=True)\n",
    "        df1.loc[top25_movies_voted, 'rating']=3\n",
    "        df1.reset_index(inplace=True)\n",
    "    #4\n",
    "    if filter_name == 'rate4_5_neutralize':\n",
    "        df1.set_index('movieId', inplace=True)\n",
    "        df1.loc[rate4_movies, 'rating']=3 \n",
    "        df1.loc[rate5_movies, 'rating']=3 \n",
    "        df1.reset_index(inplace=True)\n",
    "    #5\n",
    "    if filter_name == 'combo':\n",
    "        df1.set_index('userId', inplace=True)\n",
    "        df1.loc[bottom75_user,'rating']=3 \n",
    "        df1.reset_index(inplace=True)\n",
    "        df1.set_index('movieId', inplace=True)\n",
    "        df1.loc[top25_movies_voted, 'rating']=3\n",
    "        df1.reset_index(inplace=True)\n",
    "    return df1            "
   ]
  },
  {
   "cell_type": "code",
   "execution_count": 4,
   "metadata": {},
   "outputs": [],
   "source": [
    "ratings_default=ratings.copy()\n",
    "ratings1=input_cleanup(ratings, 'top25_users_neutralize')\n",
    "ratings2=input_cleanup(ratings, 'bottom75_users_neutralize')\n",
    "ratings3=input_cleanup(ratings, 'top25_voted_neutralize')\n",
    "ratings4=input_cleanup(ratings, 'rate4_5_neutralize')\n",
    "ratings5=input_cleanup(ratings, 'combo')"
   ]
  },
  {
   "cell_type": "code",
   "execution_count": 5,
   "metadata": {},
   "outputs": [],
   "source": [
    "def nmf_model(df, n_components=20):\n",
    "    '''\n",
    "    Build NMF model based on input data. Function works as:\n",
    "    1. reformats inout data so movieId are the columns, userId is the index and the values are the ratings\n",
    "    2. saves the number of movies from (1) for the recommender function\n",
    "    3. saves the movieId number from (1) for recommender function\n",
    "    4. converts object from (1) to an array\n",
    "    5. builds an NMF model based on the array from (4) with 20 components and fills all empty values with 3 (neutral)\n",
    "    6. extracts the movieId-rating mastrix from model for recommender function\n",
    "    '''\n",
    "    Rtrue=df.pivot(index='userId', columns='movieId', values='rating').fillna(3) \n",
    "    num_movies=Rtrue.shape[1]\n",
    "    movieId=Rtrue.columns\n",
    "    Rtrue1=np.array(Rtrue)\n",
    "    model=NMF(n_components)\n",
    "    model.fit(Rtrue1)\n",
    "    component1=model.components_\n",
    "    return num_movies, movieId, model, component1, Rtrue"
   ]
  },
  {
   "cell_type": "code",
   "execution_count": 6,
   "metadata": {},
   "outputs": [
    {
     "name": "stderr",
     "output_type": "stream",
     "text": [
      "/Users/gdquiceno2/opt/anaconda3/envs/MovieRecommender20/lib/python3.6/site-packages/sklearn/decomposition/_nmf.py:1077: ConvergenceWarning: Maximum number of iterations 200 reached. Increase it to improve convergence.\n",
      "  \" improve convergence.\" % max_iter, ConvergenceWarning)\n"
     ]
    }
   ],
   "source": [
    "num_movies2, movieId2, model2, component2, bottom75_user_neutral=nmf_model(ratings2)\n",
    "pickle.dump(model2, open('bottom75_user_neutral', 'wb'))"
   ]
  },
  {
   "cell_type": "code",
   "execution_count": 22,
   "metadata": {},
   "outputs": [],
   "source": [
    "bottom75_user_neutral.to_csv('bottom75_input.csv')"
   ]
  },
  {
   "cell_type": "code",
   "execution_count": 23,
   "metadata": {},
   "outputs": [
    {
     "name": "stderr",
     "output_type": "stream",
     "text": [
      "/Users/gdquiceno2/opt/anaconda3/envs/MovieRecommender20/lib/python3.6/site-packages/sklearn/decomposition/_nmf.py:1077: ConvergenceWarning: Maximum number of iterations 200 reached. Increase it to improve convergence.\n",
      "  \" improve convergence.\" % max_iter, ConvergenceWarning)\n"
     ]
    }
   ],
   "source": [
    "num_movies3, movieId3, model3, component3, top25_movies=nmf_model(ratings3)\n",
    "pickle.dump(model3, open('top25_movies', 'wb'))"
   ]
  },
  {
   "cell_type": "code",
   "execution_count": 24,
   "metadata": {},
   "outputs": [],
   "source": [
    "top25_movies.to_csv('top25_movies.csv')"
   ]
  },
  {
   "cell_type": "code",
   "execution_count": 25,
   "metadata": {},
   "outputs": [
    {
     "name": "stderr",
     "output_type": "stream",
     "text": [
      "/Users/gdquiceno2/opt/anaconda3/envs/MovieRecommender20/lib/python3.6/site-packages/sklearn/decomposition/_nmf.py:1077: ConvergenceWarning: Maximum number of iterations 200 reached. Increase it to improve convergence.\n",
      "  \" improve convergence.\" % max_iter, ConvergenceWarning)\n"
     ]
    }
   ],
   "source": [
    "num_movies5, movieId5, model5, component5, combo=nmf_model(ratings5)\n",
    "pickle.dump(model5, open('combo', 'wb'))"
   ]
  },
  {
   "cell_type": "code",
   "execution_count": 26,
   "metadata": {},
   "outputs": [],
   "source": [
    "combo.to_csv('combo_input.csv')"
   ]
  },
  {
   "cell_type": "code",
   "execution_count": 3,
   "metadata": {},
   "outputs": [],
   "source": [
    "ratings['timestamp'] = pd.to_datetime(ratings['timestamp'], unit='s')\n",
    "ratings.set_index('timestamp', inplace=True)\n",
    "ratings.loc[ratings.between_time('00:00', '04:00').index, 'time_block']='cant sleep'\n",
    "ratings.loc[ratings.between_time('04:00', '07:00').index, 'time_block']='early commuter'\n",
    "ratings.loc[ratings.between_time('07:00', '11:00').index, 'time_block']='talk show'\n",
    "ratings.loc[ratings.between_time('11:00', '15:00').index, 'time_block']='kiddy nap'\n",
    "ratings.loc[ratings.between_time('15:00', '18:00').index, 'time_block']='afterschool'\n",
    "ratings.loc[ratings.between_time('18:00', '21:00').index, 'time_block']='tv dinner'\n",
    "ratings.loc[ratings.between_time('21:00', '23:59:59').index, 'time_block']='late night'\n",
    "ratings.reset_index(inplace=True)\n",
    "time_tag=pd.DataFrame(ratings.groupby('movieId')['time_block'].value_counts().unstack().idxmax(axis=1), columns=['time_block'])\n",
    "movie_time_index=dict(zip(time_tag.index, time_tag.time_block))\n",
    "ratings.drop(['timestamp', 'userId', 'rating'], axis=1, inplace=True)"
   ]
  },
  {
   "cell_type": "code",
   "execution_count": 4,
   "metadata": {},
   "outputs": [
    {
     "data": {
      "text/html": [
       "<div>\n",
       "<style scoped>\n",
       "    .dataframe tbody tr th:only-of-type {\n",
       "        vertical-align: middle;\n",
       "    }\n",
       "\n",
       "    .dataframe tbody tr th {\n",
       "        vertical-align: top;\n",
       "    }\n",
       "\n",
       "    .dataframe thead th {\n",
       "        text-align: right;\n",
       "    }\n",
       "</style>\n",
       "<table border=\"1\" class=\"dataframe\">\n",
       "  <thead>\n",
       "    <tr style=\"text-align: right;\">\n",
       "      <th></th>\n",
       "      <th>movieId</th>\n",
       "      <th>time_block</th>\n",
       "    </tr>\n",
       "  </thead>\n",
       "  <tbody>\n",
       "    <tr>\n",
       "      <th>0</th>\n",
       "      <td>1</td>\n",
       "      <td>tv dinner</td>\n",
       "    </tr>\n",
       "    <tr>\n",
       "      <th>1</th>\n",
       "      <td>3</td>\n",
       "      <td>tv dinner</td>\n",
       "    </tr>\n",
       "    <tr>\n",
       "      <th>2</th>\n",
       "      <td>6</td>\n",
       "      <td>tv dinner</td>\n",
       "    </tr>\n",
       "    <tr>\n",
       "      <th>3</th>\n",
       "      <td>47</td>\n",
       "      <td>tv dinner</td>\n",
       "    </tr>\n",
       "    <tr>\n",
       "      <th>4</th>\n",
       "      <td>50</td>\n",
       "      <td>tv dinner</td>\n",
       "    </tr>\n",
       "    <tr>\n",
       "      <th>...</th>\n",
       "      <td>...</td>\n",
       "      <td>...</td>\n",
       "    </tr>\n",
       "    <tr>\n",
       "      <th>100831</th>\n",
       "      <td>166534</td>\n",
       "      <td>late night</td>\n",
       "    </tr>\n",
       "    <tr>\n",
       "      <th>100832</th>\n",
       "      <td>168248</td>\n",
       "      <td>late night</td>\n",
       "    </tr>\n",
       "    <tr>\n",
       "      <th>100833</th>\n",
       "      <td>168250</td>\n",
       "      <td>tv dinner</td>\n",
       "    </tr>\n",
       "    <tr>\n",
       "      <th>100834</th>\n",
       "      <td>168252</td>\n",
       "      <td>late night</td>\n",
       "    </tr>\n",
       "    <tr>\n",
       "      <th>100835</th>\n",
       "      <td>170875</td>\n",
       "      <td>late night</td>\n",
       "    </tr>\n",
       "  </tbody>\n",
       "</table>\n",
       "<p>100836 rows × 2 columns</p>\n",
       "</div>"
      ],
      "text/plain": [
       "        movieId  time_block\n",
       "0             1   tv dinner\n",
       "1             3   tv dinner\n",
       "2             6   tv dinner\n",
       "3            47   tv dinner\n",
       "4            50   tv dinner\n",
       "...         ...         ...\n",
       "100831   166534  late night\n",
       "100832   168248  late night\n",
       "100833   168250   tv dinner\n",
       "100834   168252  late night\n",
       "100835   170875  late night\n",
       "\n",
       "[100836 rows x 2 columns]"
      ]
     },
     "execution_count": 4,
     "metadata": {},
     "output_type": "execute_result"
    }
   ],
   "source": [
    "ratings"
   ]
  },
  {
   "cell_type": "code",
   "execution_count": 5,
   "metadata": {},
   "outputs": [],
   "source": [
    "movies_4_dictionary=pd.merge(movies, tags, how='left', left_on='movieId', right_on='movieId')"
   ]
  },
  {
   "cell_type": "code",
   "execution_count": 6,
   "metadata": {},
   "outputs": [],
   "source": [
    "movies_4_dictionary.drop(['userId', 'timestamp'], axis=1, inplace=True)"
   ]
  },
  {
   "cell_type": "code",
   "execution_count": 7,
   "metadata": {},
   "outputs": [],
   "source": [
    "movies_4_dictionary=pd.merge(movies_4_dictionary, ratings, how='left', left_on='movieId', right_on='movieId')"
   ]
  },
  {
   "cell_type": "code",
   "execution_count": 8,
   "metadata": {},
   "outputs": [
    {
     "data": {
      "text/html": [
       "<div>\n",
       "<style scoped>\n",
       "    .dataframe tbody tr th:only-of-type {\n",
       "        vertical-align: middle;\n",
       "    }\n",
       "\n",
       "    .dataframe tbody tr th {\n",
       "        vertical-align: top;\n",
       "    }\n",
       "\n",
       "    .dataframe thead th {\n",
       "        text-align: right;\n",
       "    }\n",
       "</style>\n",
       "<table border=\"1\" class=\"dataframe\">\n",
       "  <thead>\n",
       "    <tr style=\"text-align: right;\">\n",
       "      <th></th>\n",
       "      <th>movieId</th>\n",
       "      <th>title</th>\n",
       "      <th>genres</th>\n",
       "      <th>tag</th>\n",
       "      <th>time_block</th>\n",
       "    </tr>\n",
       "  </thead>\n",
       "  <tbody>\n",
       "    <tr>\n",
       "      <th>0</th>\n",
       "      <td>1</td>\n",
       "      <td>Toy Story (1995)</td>\n",
       "      <td>Adventure|Animation|Children|Comedy|Fantasy</td>\n",
       "      <td>pixar</td>\n",
       "      <td>tv dinner</td>\n",
       "    </tr>\n",
       "    <tr>\n",
       "      <th>1</th>\n",
       "      <td>1</td>\n",
       "      <td>Toy Story (1995)</td>\n",
       "      <td>Adventure|Animation|Children|Comedy|Fantasy</td>\n",
       "      <td>pixar</td>\n",
       "      <td>early commuter</td>\n",
       "    </tr>\n",
       "    <tr>\n",
       "      <th>2</th>\n",
       "      <td>1</td>\n",
       "      <td>Toy Story (1995)</td>\n",
       "      <td>Adventure|Animation|Children|Comedy|Fantasy</td>\n",
       "      <td>pixar</td>\n",
       "      <td>early commuter</td>\n",
       "    </tr>\n",
       "    <tr>\n",
       "      <th>3</th>\n",
       "      <td>1</td>\n",
       "      <td>Toy Story (1995)</td>\n",
       "      <td>Adventure|Animation|Children|Comedy|Fantasy</td>\n",
       "      <td>pixar</td>\n",
       "      <td>kiddy nap</td>\n",
       "    </tr>\n",
       "    <tr>\n",
       "      <th>4</th>\n",
       "      <td>1</td>\n",
       "      <td>Toy Story (1995)</td>\n",
       "      <td>Adventure|Animation|Children|Comedy|Fantasy</td>\n",
       "      <td>pixar</td>\n",
       "      <td>early commuter</td>\n",
       "    </tr>\n",
       "    <tr>\n",
       "      <th>...</th>\n",
       "      <td>...</td>\n",
       "      <td>...</td>\n",
       "      <td>...</td>\n",
       "      <td>...</td>\n",
       "      <td>...</td>\n",
       "    </tr>\n",
       "    <tr>\n",
       "      <th>285778</th>\n",
       "      <td>193581</td>\n",
       "      <td>Black Butler: Book of the Atlantic (2017)</td>\n",
       "      <td>Action|Animation|Comedy|Fantasy</td>\n",
       "      <td>NaN</td>\n",
       "      <td>kiddy nap</td>\n",
       "    </tr>\n",
       "    <tr>\n",
       "      <th>285779</th>\n",
       "      <td>193583</td>\n",
       "      <td>No Game No Life: Zero (2017)</td>\n",
       "      <td>Animation|Comedy|Fantasy</td>\n",
       "      <td>NaN</td>\n",
       "      <td>kiddy nap</td>\n",
       "    </tr>\n",
       "    <tr>\n",
       "      <th>285780</th>\n",
       "      <td>193585</td>\n",
       "      <td>Flint (2017)</td>\n",
       "      <td>Drama</td>\n",
       "      <td>NaN</td>\n",
       "      <td>kiddy nap</td>\n",
       "    </tr>\n",
       "    <tr>\n",
       "      <th>285781</th>\n",
       "      <td>193587</td>\n",
       "      <td>Bungo Stray Dogs: Dead Apple (2018)</td>\n",
       "      <td>Action|Animation</td>\n",
       "      <td>NaN</td>\n",
       "      <td>afterschool</td>\n",
       "    </tr>\n",
       "    <tr>\n",
       "      <th>285782</th>\n",
       "      <td>193609</td>\n",
       "      <td>Andrew Dice Clay: Dice Rules (1991)</td>\n",
       "      <td>Comedy</td>\n",
       "      <td>NaN</td>\n",
       "      <td>early commuter</td>\n",
       "    </tr>\n",
       "  </tbody>\n",
       "</table>\n",
       "<p>285783 rows × 5 columns</p>\n",
       "</div>"
      ],
      "text/plain": [
       "        movieId                                      title  \\\n",
       "0             1                           Toy Story (1995)   \n",
       "1             1                           Toy Story (1995)   \n",
       "2             1                           Toy Story (1995)   \n",
       "3             1                           Toy Story (1995)   \n",
       "4             1                           Toy Story (1995)   \n",
       "...         ...                                        ...   \n",
       "285778   193581  Black Butler: Book of the Atlantic (2017)   \n",
       "285779   193583               No Game No Life: Zero (2017)   \n",
       "285780   193585                               Flint (2017)   \n",
       "285781   193587        Bungo Stray Dogs: Dead Apple (2018)   \n",
       "285782   193609        Andrew Dice Clay: Dice Rules (1991)   \n",
       "\n",
       "                                             genres    tag      time_block  \n",
       "0       Adventure|Animation|Children|Comedy|Fantasy  pixar       tv dinner  \n",
       "1       Adventure|Animation|Children|Comedy|Fantasy  pixar  early commuter  \n",
       "2       Adventure|Animation|Children|Comedy|Fantasy  pixar  early commuter  \n",
       "3       Adventure|Animation|Children|Comedy|Fantasy  pixar       kiddy nap  \n",
       "4       Adventure|Animation|Children|Comedy|Fantasy  pixar  early commuter  \n",
       "...                                             ...    ...             ...  \n",
       "285778              Action|Animation|Comedy|Fantasy    NaN       kiddy nap  \n",
       "285779                     Animation|Comedy|Fantasy    NaN       kiddy nap  \n",
       "285780                                        Drama    NaN       kiddy nap  \n",
       "285781                             Action|Animation    NaN     afterschool  \n",
       "285782                                       Comedy    NaN  early commuter  \n",
       "\n",
       "[285783 rows x 5 columns]"
      ]
     },
     "execution_count": 8,
     "metadata": {},
     "output_type": "execute_result"
    }
   ],
   "source": [
    "movies_4_dictionary"
   ]
  },
  {
   "cell_type": "code",
   "execution_count": 9,
   "metadata": {},
   "outputs": [],
   "source": [
    "def movie_indeces(movies_4_dictionary):\n",
    "    movie_title_index=dict(zip(movies_4_dictionary.movieId, movies_4_dictionary.title))\n",
    "    movie_genres_index=dict(zip(movies_4_dictionary.title, movies_4_dictionary.genres))\n",
    "    movie_tags_index=dict(zip(movies_4_dictionary.title, movies_4_dictionary.tag))\n",
    "    movie_time_index=dict(zip(movies_4_dictionary.title, movies_4_dictionary.time_block ))\n",
    "    return movie_title_index, movie_genres_index, movie_tags_index, movie_time_index"
   ]
  },
  {
   "cell_type": "code",
   "execution_count": 10,
   "metadata": {},
   "outputs": [],
   "source": [
    "movie_title_index, movie_genres_index, movie_tags_index, movie_time_index=movie_indeces(movies_4_dictionary)"
   ]
  },
  {
   "cell_type": "code",
   "execution_count": 39,
   "metadata": {},
   "outputs": [],
   "source": [
    "with open('movie_genres_index.json', 'w') as fp:\n",
    "    json.dump(movie_genres_index, fp)\n",
    "with open('movie_tags_index.json', 'w') as fp:\n",
    "    json.dump(movie_tags_index, fp) \n",
    "with open('movie_time_index.json', 'w') as fp:\n",
    "    json.dump(movie_time_index, fp)\n",
    "with open('movie_title_index.json', 'w') as fp:\n",
    "    json.dump(movie_title_index, fp)    "
   ]
  },
  {
   "cell_type": "code",
   "execution_count": null,
   "metadata": {},
   "outputs": [],
   "source": []
  }
 ],
 "metadata": {
  "kernelspec": {
   "display_name": "MovieRecommender20",
   "language": "python",
   "name": "movierecommender20"
  },
  "language_info": {
   "codemirror_mode": {
    "name": "ipython",
    "version": 3
   },
   "file_extension": ".py",
   "mimetype": "text/x-python",
   "name": "python",
   "nbconvert_exporter": "python",
   "pygments_lexer": "ipython3",
   "version": "3.6.10"
  }
 },
 "nbformat": 4,
 "nbformat_minor": 4
}
